{
 "cells": [
  {
   "cell_type": "markdown",
   "id": "01af0b6b",
   "metadata": {},
   "source": [
    "# Notebook 1: Getting Started with Python Language\n",
    "This notebook provides a detailed introduction to Python with explanations and examples."
   ]
  },
  {
   "cell_type": "markdown",
   "id": "f86f54fd",
   "metadata": {},
   "source": [
    "## Section 1.1: Getting Started\n",
    "Python is an easy-to-learn, high-level programming language used for web development, data science, automation, and more.\n",
    "\n",
    "**Checking Python Version:**\n",
    "Run the following command in your terminal or command prompt:\n",
    "```\n",
    "python --version\n",
    "```\n",
    "or\n",
    "```\n",
    "python3 --version\n",
    "```"
   ]
  },
  {
   "cell_type": "markdown",
   "id": "1a3c37f6",
   "metadata": {},
   "source": [
    "## Section 1.2: Creating Variables and Assigning Values\n",
    "Python variables do not require explicit declaration. Assign values using the `=` operator."
   ]
  },
  {
   "cell_type": "code",
   "execution_count": null,
   "id": "6c68ef2d",
   "metadata": {},
   "outputs": [],
   "source": [
    "\n",
    "# Assigning values to variables\n",
    "x = 10        # Integer\n",
    "y = 20.5      # Float\n",
    "name = \"Alice\" # String\n",
    "is_active = True  # Boolean\n",
    "\n",
    "print(type(x), type(y), type(name), type(is_active))\n"
   ]
  },
  {
   "cell_type": "markdown",
   "id": "c7e2c65e",
   "metadata": {},
   "source": [
    "## Section 1.3: Block Indentation\n",
    "Python uses indentation instead of curly brackets `{}` to define blocks of code."
   ]
  },
  {
   "cell_type": "code",
   "execution_count": null,
   "id": "96ce827b",
   "metadata": {},
   "outputs": [],
   "source": [
    "\n",
    "x = 10\n",
    "\n",
    "if x > 5:  # Indentation starts a block\n",
    "    print(\"x is greater than 5\")\n",
    "    print(\"This line is inside the block\")\n",
    "\n",
    "print(\"This line is outside the block\")\n"
   ]
  },
  {
   "cell_type": "markdown",
   "id": "19d299a3",
   "metadata": {},
   "source": [
    "## Section 1.4: Datatypes\n",
    "Python has built-in datatypes including `int`, `float`, `str`, `bool`, `list`, `tuple`, `dict`, and `set`."
   ]
  },
  {
   "cell_type": "code",
   "execution_count": null,
   "id": "82d5540e",
   "metadata": {},
   "outputs": [],
   "source": [
    "\n",
    "# Checking data types\n",
    "print(type(10))        # int\n",
    "print(type(10.5))      # float\n",
    "print(type(\"Hello\"))   # str\n",
    "print(type(True))      # bool\n"
   ]
  },
  {
   "cell_type": "markdown",
   "id": "bcc20154",
   "metadata": {},
   "source": [
    "## Section 1.5: Collection Types\n",
    "Python supports collection data types like lists, tuples, dictionaries, and sets."
   ]
  },
  {
   "cell_type": "code",
   "execution_count": null,
   "id": "6dbab08a",
   "metadata": {},
   "outputs": [],
   "source": [
    "\n",
    "# Lists (mutable)\n",
    "my_list = [1, 2, 3, 4]\n",
    "my_list.append(5)\n",
    "print(my_list)\n",
    "\n",
    "# Tuples (immutable)\n",
    "my_tuple = (10, 20, 30)\n",
    "print(my_tuple[1])\n",
    "\n",
    "# Dictionaries (key-value pairs)\n",
    "my_dict = {\"name\": \"Alice\", \"age\": 25}\n",
    "print(my_dict[\"name\"])\n",
    "\n",
    "# Sets (unique elements)\n",
    "my_set = {1, 2, 3}\n",
    "my_set.add(4)\n",
    "print(my_set)\n"
   ]
  },
  {
   "cell_type": "markdown",
   "id": "82d47fba",
   "metadata": {},
   "source": [
    "## Section 1.6: IDLE - Python GUI\n",
    "Python comes with an Integrated Development and Learning Environment (IDLE) where you can write and run Python code interactively.\n",
    "To launch IDLE, run `idle` in your terminal or search for 'IDLE' in your system."
   ]
  },
  {
   "cell_type": "markdown",
   "id": "89cf4979",
   "metadata": {},
   "source": [
    "## Section 1.7: User Input\n",
    "Use the `input()` function to get user input."
   ]
  },
  {
   "cell_type": "code",
   "execution_count": null,
   "id": "af2f12b0",
   "metadata": {},
   "outputs": [],
   "source": [
    "\n",
    "name = input(\"Enter your name: \")\n",
    "print(f\"Hello, {name}!\")\n"
   ]
  },
  {
   "cell_type": "markdown",
   "id": "f5bf82a7",
   "metadata": {},
   "source": [
    "## Section 1.8: Built-in Modules and Functions\n",
    "Python provides built-in modules like `math`, `random`, and `datetime`."
   ]
  },
  {
   "cell_type": "code",
   "execution_count": null,
   "id": "42da5799",
   "metadata": {},
   "outputs": [],
   "source": [
    "\n",
    "import math\n",
    "\n",
    "print(math.sqrt(16))  # Square root\n",
    "print(math.factorial(5))  # Factorial\n"
   ]
  },
  {
   "cell_type": "markdown",
   "id": "151a0dbf",
   "metadata": {},
   "source": [
    "## Section 1.9: Creating a Module\n",
    "Python modules allow code reuse. Save a Python file with functions and import it in another script.\n",
    "Example: Create a file `mymodule.py` with the following content:\n",
    "```python\n",
    "def greet(name):\n",
    "    return f'Hello, {name}!'\n",
    "```\n",
    "\n",
    "Then import it and use it in another script:\n",
    "```python\n",
    "import mymodule\n",
    "print(mymodule.greet('Alice'))\n",
    "```"
   ]
  },
  {
   "cell_type": "markdown",
   "id": "423222c7",
   "metadata": {},
   "source": [
    "## Section 1.10: Installation of Python 2.7.x and 3.x\n",
    "Python 2 is deprecated. It is recommended to install Python 3 from [python.org](https://www.python.org/downloads/)."
   ]
  },
  {
   "cell_type": "markdown",
   "id": "a046a81a",
   "metadata": {},
   "source": [
    "## Section 1.11: String Functions - str() and repr()\n",
    "The `str()` function returns a readable string representation, whereas `repr()` gives an unambiguous representation."
   ]
  },
  {
   "cell_type": "code",
   "execution_count": null,
   "id": "402c1f3f",
   "metadata": {},
   "outputs": [],
   "source": [
    "\n",
    "x = 10\n",
    "print(str(x))  # Human-readable\n",
    "print(repr(x))  # Unambiguous representation\n"
   ]
  },
  {
   "cell_type": "markdown",
   "id": "e9c0434e",
   "metadata": {},
   "source": [
    "## Section 1.12: Installing External Modules Using Pip\n",
    "Use `pip` to install external packages.\n",
    "```\n",
    "pip install numpy\n",
    "```"
   ]
  }
 ],
 "metadata": {},
 "nbformat": 4,
 "nbformat_minor": 5
}

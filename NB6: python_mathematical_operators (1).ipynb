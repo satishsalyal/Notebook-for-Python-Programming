{
 "cells": [
  {
   "cell_type": "markdown",
   "id": "40f6325f",
   "metadata": {},
   "source": [
    "# Simple Mathematical Operators in Python\n",
    "Python provides various mathematical operations, ranging from basic arithmetic to advanced mathematical functions.\n",
    "\n",
    "**Topics Covered:**\n",
    "- Division\n",
    "- Addition\n",
    "- Exponentiation\n",
    "- Trigonometric Functions\n",
    "- Inplace Operations\n",
    "- Subtraction\n",
    "- Multiplication\n",
    "- Logarithms\n"
   ]
  },
  {
   "cell_type": "markdown",
   "id": "0bf11198",
   "metadata": {},
   "source": [
    "## 6.1: Division\n",
    "Python provides two types of division:\n",
    "- `/` for floating-point division\n",
    "- `//` for integer (floor) division"
   ]
  },
  {
   "cell_type": "code",
   "execution_count": null,
   "id": "90a54677",
   "metadata": {},
   "outputs": [],
   "source": [
    "\n",
    "# Floating-point division\n",
    "print(10 / 3)  # Output: 3.3333\n",
    "\n",
    "# Integer division\n",
    "print(10 // 3)  # Output: 3\n"
   ]
  },
  {
   "cell_type": "markdown",
   "id": "bfa2efc6",
   "metadata": {},
   "source": [
    "## 6.2: Addition\n",
    "Addition in Python is performed using the `+` operator."
   ]
  },
  {
   "cell_type": "code",
   "execution_count": null,
   "id": "6b351f40",
   "metadata": {},
   "outputs": [],
   "source": [
    "\n",
    "a = 5\n",
    "b = 3\n",
    "sum_result = a + b\n",
    "print(\"Sum:\", sum_result)\n"
   ]
  },
  {
   "cell_type": "markdown",
   "id": "7e90e820",
   "metadata": {},
   "source": [
    "## 6.3: Exponentiation\n",
    "Exponentiation is performed using `**`."
   ]
  },
  {
   "cell_type": "code",
   "execution_count": null,
   "id": "da149cc2",
   "metadata": {},
   "outputs": [],
   "source": [
    "\n",
    "# 2 raised to the power of 3\n",
    "print(2 ** 3)  # Output: 8\n"
   ]
  },
  {
   "cell_type": "markdown",
   "id": "f399da09",
   "metadata": {},
   "source": [
    "## 6.4: Trigonometric Functions\n",
    "Python provides trigonometric functions via the `math` module."
   ]
  },
  {
   "cell_type": "code",
   "execution_count": null,
   "id": "d7027155",
   "metadata": {},
   "outputs": [],
   "source": [
    "\n",
    "import math\n",
    "\n",
    "# Sine, Cosine, and Tangent\n",
    "angle = math.radians(30)  # Convert degrees to radians\n",
    "print(\"sin(30°):\", math.sin(angle))\n",
    "print(\"cos(30°):\", math.cos(angle))\n",
    "print(\"tan(30°):\", math.tan(angle))\n"
   ]
  },
  {
   "cell_type": "markdown",
   "id": "c16acbf9",
   "metadata": {},
   "source": [
    "## 6.5: Inplace Operations\n",
    "Python supports inplace operations like `+=`, `-=`, `*=`, etc., which modify the variable directly."
   ]
  },
  {
   "cell_type": "code",
   "execution_count": null,
   "id": "37380e49",
   "metadata": {},
   "outputs": [],
   "source": [
    "\n",
    "x = 5\n",
    "x += 3  # Equivalent to x = x + 3\n",
    "print(\"After inplace addition:\", x)\n"
   ]
  },
  {
   "cell_type": "markdown",
   "id": "9ddb084e",
   "metadata": {},
   "source": [
    "## 6.6: Subtraction\n",
    "Subtraction is performed using the `-` operator."
   ]
  },
  {
   "cell_type": "code",
   "execution_count": null,
   "id": "9fa61baf",
   "metadata": {},
   "outputs": [],
   "source": [
    "\n",
    "a = 10\n",
    "b = 4\n",
    "difference = a - b\n",
    "print(\"Difference:\", difference)\n"
   ]
  },
  {
   "cell_type": "markdown",
   "id": "30e4e264",
   "metadata": {},
   "source": [
    "## 6.7: Multiplication\n",
    "Multiplication is performed using the `*` operator."
   ]
  },
  {
   "cell_type": "code",
   "execution_count": null,
   "id": "e5fd2de2",
   "metadata": {},
   "outputs": [],
   "source": [
    "\n",
    "a = 6\n",
    "b = 7\n",
    "product = a * b\n",
    "print(\"Product:\", product)\n"
   ]
  },
  {
   "cell_type": "markdown",
   "id": "7dd9c8a9",
   "metadata": {},
   "source": [
    "## 6.8: Logarithms\n",
    "Logarithmic functions are available in the `math` module."
   ]
  },
  {
   "cell_type": "code",
   "execution_count": null,
   "id": "1783feb5",
   "metadata": {},
   "outputs": [],
   "source": [
    "\n",
    "import math\n",
    "\n",
    "# Natural logarithm (base e)\n",
    "print(\"ln(10):\", math.log(10))\n",
    "\n",
    "# Logarithm base 10\n",
    "print(\"log10(100):\", math.log10(100))\n",
    "\n",
    "# Logarithm base 2\n",
    "print(\"log2(8):\", math.log2(8))\n"
   ]
  },
  {
   "cell_type": "markdown",
   "id": "59dcc230",
   "metadata": {},
   "source": [
    "## 6.9: Modulus\n",
    "The modulus operator `%` returns the remainder of a division operation.\n",
    "It is commonly used for:\n",
    "- Checking divisibility\n",
    "- Finding remainders in mathematical operations\n",
    "- Implementing cyclic patterns"
   ]
  },
  {
   "cell_type": "code",
   "execution_count": null,
   "id": "a7520f7a",
   "metadata": {},
   "outputs": [],
   "source": [
    "\n",
    "# Using modulus operator\n",
    "print(10 % 3)  # Output: 1, since 10 divided by 3 leaves a remainder of 1\n",
    "\n",
    "# Check if a number is even or odd\n",
    "num = 15\n",
    "if num % 2 == 0:\n",
    "    print(num, \"is even\")\n",
    "else:\n",
    "    print(num, \"is odd\")\n",
    "\n",
    "# Using modulus for cyclic patterns (e.g., repeating every 3rd iteration)\n",
    "for i in range(1, 11):\n",
    "    print(f\"{i}: Category {i % 3}\")\n"
   ]
  }
 ],
 "metadata": {},
 "nbformat": 4,
 "nbformat_minor": 5
}

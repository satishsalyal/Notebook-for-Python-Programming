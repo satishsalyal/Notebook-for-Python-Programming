{
  "cells": [
    {
      "cell_type": "markdown",
      "metadata": {
        "id": "view-in-github",
        "colab_type": "text"
      },
      "source": [
        "<a href=\"https://colab.research.google.com/github/satishsalyal/Notebook-for-Python-Programming/blob/main/getting_started_with_python.ipynb\" target=\"_parent\"><img src=\"https://colab.research.google.com/assets/colab-badge.svg\" alt=\"Open In Colab\"/></a>"
      ]
    },
    {
      "cell_type": "markdown",
      "id": "c358cd17",
      "metadata": {
        "id": "c358cd17"
      },
      "source": [
        "# Getting Started with Python\n",
        "Python is a powerful, high-level, and easy-to-learn programming language.\n",
        "It is widely used in data science, web development, automation, and more!\n",
        "\n",
        "This notebook will introduce you to Python with examples and explanations."
      ]
    },
    {
      "cell_type": "markdown",
      "id": "2f793869",
      "metadata": {
        "id": "2f793869"
      },
      "source": [
        "## Installing Python\n",
        "Download and install Python from [python.org](https://www.python.org/downloads/).\n",
        "\n",
        "Check if Python is installed by running:\n",
        "```\n",
        "python --version\n",
        "```or\n",
        "```\n",
        "python3 --version\n",
        "```"
      ]
    },
    {
      "cell_type": "markdown",
      "id": "81a8341c",
      "metadata": {
        "id": "81a8341c"
      },
      "source": [
        "## Basic Syntax\n",
        "Print statements and comments in Python:"
      ]
    },
    {
      "cell_type": "code",
      "execution_count": null,
      "id": "b3bca14a",
      "metadata": {
        "id": "b3bca14a"
      },
      "outputs": [],
      "source": [
        "print(\"Hello, World!\")  # This prints Hello, World!"
      ]
    },
    {
      "cell_type": "markdown",
      "id": "a7462e5a",
      "metadata": {
        "id": "a7462e5a"
      },
      "source": [
        "## Variables & Data Types\n",
        "Python supports multiple data types:"
      ]
    },
    {
      "cell_type": "code",
      "execution_count": null,
      "id": "bd43af5d",
      "metadata": {
        "id": "bd43af5d"
      },
      "outputs": [],
      "source": [
        "\n",
        "# Defining variables\n",
        "x = 10       # Integer\n",
        "y = 20.5     # Float\n",
        "name = \"Alice\" # String\n",
        "is_active = True  # Boolean\n",
        "\n",
        "# Printing types\n",
        "print(type(x), type(y), type(name), type(is_active))\n"
      ]
    },
    {
      "cell_type": "markdown",
      "id": "1885db52",
      "metadata": {
        "id": "1885db52"
      },
      "source": [
        "## Operators in Python\n",
        "Python supports arithmetic, logical, and comparison operators."
      ]
    },
    {
      "cell_type": "code",
      "execution_count": null,
      "id": "b9eddf04",
      "metadata": {
        "id": "b9eddf04"
      },
      "outputs": [],
      "source": [
        "\n",
        "a, b = 10, 3\n",
        "\n",
        "# Arithmetic Operators\n",
        "print(a + b, a - b, a * b, a / b, a // b, a % b, a ** b)\n"
      ]
    },
    {
      "cell_type": "markdown",
      "id": "0069a7f6",
      "metadata": {
        "id": "0069a7f6"
      },
      "source": [
        "## Control Flow: Conditional Statements & Loops"
      ]
    },
    {
      "cell_type": "code",
      "execution_count": null,
      "id": "d8a8ec18",
      "metadata": {
        "id": "d8a8ec18"
      },
      "outputs": [],
      "source": [
        "\n",
        "num = 10\n",
        "if num > 0:\n",
        "    print(\"Positive\")\n",
        "elif num < 0:\n",
        "    print(\"Negative\")\n",
        "else:\n",
        "    print(\"Zero\")\n"
      ]
    },
    {
      "cell_type": "code",
      "execution_count": null,
      "id": "595ad007",
      "metadata": {
        "id": "595ad007"
      },
      "outputs": [],
      "source": [
        "\n",
        "for i in range(5):\n",
        "    print(f\"Iteration {i}\")\n"
      ]
    },
    {
      "cell_type": "code",
      "execution_count": null,
      "id": "7ba60012",
      "metadata": {
        "id": "7ba60012"
      },
      "outputs": [],
      "source": [
        "\n",
        "count = 0\n",
        "while count < 5:\n",
        "    print(f\"Count: {count}\")\n",
        "    count += 1\n"
      ]
    },
    {
      "cell_type": "markdown",
      "id": "5c8d644c",
      "metadata": {
        "id": "5c8d644c"
      },
      "source": [
        "## Functions\n",
        "Functions allow code reuse."
      ]
    },
    {
      "cell_type": "code",
      "execution_count": null,
      "id": "d7ca0531",
      "metadata": {
        "id": "d7ca0531"
      },
      "outputs": [],
      "source": [
        "\n",
        "def greet(name):\n",
        "    return f\"Hello, {name}\"\n",
        "\n",
        "print(greet(\"Alice\"))\n"
      ]
    },
    {
      "cell_type": "markdown",
      "id": "111fc0b1",
      "metadata": {
        "id": "111fc0b1"
      },
      "source": [
        "## Data Structures: Lists, Tuples, Dictionaries, and Sets"
      ]
    },
    {
      "cell_type": "code",
      "execution_count": null,
      "id": "de66ca42",
      "metadata": {
        "id": "de66ca42"
      },
      "outputs": [],
      "source": [
        "\n",
        "# Lists\n",
        "my_list = [1, 2, 3, 4]\n",
        "my_list.append(5)\n",
        "print(my_list)\n",
        "\n",
        "# Tuples (Immutable)\n",
        "my_tuple = (10, 20, 30)\n",
        "print(my_tuple[1])\n",
        "\n",
        "# Dictionaries\n",
        "my_dict = {\"name\": \"Alice\", \"age\": 25}\n",
        "print(my_dict[\"name\"])\n",
        "\n",
        "# Sets\n",
        "my_set = {1, 2, 3}\n",
        "my_set.add(4)\n",
        "print(my_set)\n"
      ]
    },
    {
      "cell_type": "markdown",
      "id": "ea334b98",
      "metadata": {
        "id": "ea334b98"
      },
      "source": [
        "## File Handling\n",
        "Reading and writing files in Python."
      ]
    },
    {
      "cell_type": "code",
      "execution_count": null,
      "id": "c518aac0",
      "metadata": {
        "id": "c518aac0"
      },
      "outputs": [],
      "source": [
        "\n",
        "# Writing to a file\n",
        "with open(\"sample.txt\", \"w\") as file:\n",
        "    file.write(\"Hello, this is a test file.\")\n",
        "\n",
        "# Reading from a file\n",
        "with open(\"sample.txt\", \"r\") as file:\n",
        "    content = file.read()\n",
        "    print(content)\n"
      ]
    },
    {
      "cell_type": "markdown",
      "id": "e5d4fb72",
      "metadata": {
        "id": "e5d4fb72"
      },
      "source": [
        "## Exception Handling\n",
        "Handling errors using try-except."
      ]
    },
    {
      "cell_type": "code",
      "execution_count": null,
      "id": "55d4ae1c",
      "metadata": {
        "id": "55d4ae1c"
      },
      "outputs": [],
      "source": [
        "\n",
        "try:\n",
        "    result = 10 / 0  # Will raise an error\n",
        "except ZeroDivisionError as e:\n",
        "    print(\"Error:\", e)\n"
      ]
    },
    {
      "cell_type": "markdown",
      "id": "4303a012",
      "metadata": {
        "id": "4303a012"
      },
      "source": [
        "## Object-Oriented Programming (OOP) Basics"
      ]
    },
    {
      "cell_type": "code",
      "execution_count": null,
      "id": "faa96885",
      "metadata": {
        "id": "faa96885"
      },
      "outputs": [],
      "source": [
        "\n",
        "class Person:\n",
        "    def __init__(self, name, age):\n",
        "        self.name = name\n",
        "        self.age = age\n",
        "\n",
        "    def greet(self):\n",
        "        return f\"Hello, my name is {self.name} and I am {self.age} years old.\"\n",
        "\n",
        "p1 = Person(\"Alice\", 30)\n",
        "print(p1.greet())\n"
      ]
    }
  ],
  "metadata": {
    "colab": {
      "provenance": [],
      "include_colab_link": true
    }
  },
  "nbformat": 4,
  "nbformat_minor": 5
}
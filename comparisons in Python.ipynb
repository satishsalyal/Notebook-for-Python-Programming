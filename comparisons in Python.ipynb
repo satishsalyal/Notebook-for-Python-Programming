{
 "cells": [
  {
   "cell_type": "markdown",
   "metadata": {},
   "source": [
    "# NB15: Comparisons\n",
    "\n",
    "This chapter explores the various ways to perform comparisons in Python. Comparisons are fundamental to programming as they allow us to evaluate conditions, make decisions, and control the flow of execution. Python provides a rich set of comparison operators and techniques, which we will discuss in detail with examples.\n",
    "\n",
    "Topics covered:\n",
    "- **Section 15.1**: Chain Comparisons\n",
    "- **Section 15.2**: Comparison by `is` vs `==`\n",
    "- **Section 15.3**: Greater than or less than\n",
    "- **Section 15.4**: Not equal to\n",
    "- **Section 15.5**: Equal To"
   ]
  },
  {
   "cell_type": "markdown",
   "metadata": {},
   "source": [
    "## Section 15.1: Chain Comparisons\n",
    "\n",
    "Python allows you to chain comparison operators in a single expression, making the code more readable and concise. For example, instead of writing `a < b and b < c`, you can write `a < b < c`. This evaluates all conditions in sequence.\n",
    "\n",
    "### How It Works\n",
    "- Chained comparisons are evaluated from left to right.\n",
    "- Each pairwise comparison must be true for the entire expression to return `True`.\n",
    "- Supported operators: `<`, `>`, `<=`, `>=`, `==`, `!=`.\n",
    "\n",
    "Let’s dive into some examples."
   ]
  },
  {
   "cell_type": "code",
   "execution_count": 1,
   "metadata": {},
   "outputs": [
    {
     "name": "stdout",
     "output_type": "stream",
     "text": [
      "True\n",
      "False\n",
      "True\n"
     ]
    }
   ],
   "source": [
    "# Example 1: Chain comparison with numbers\n",
    "x = 5\n",
    "print(3 < x < 7

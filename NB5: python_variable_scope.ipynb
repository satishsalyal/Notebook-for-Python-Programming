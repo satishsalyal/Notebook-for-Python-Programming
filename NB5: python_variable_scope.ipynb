{
 "cells": [
  {
   "cell_type": "markdown",
   "id": "e4bc2a34",
   "metadata": {},
   "source": [
    "# Variable Scope and Binding in Python\n",
    "Understanding variable scope in Python is crucial for writing efficient and bug-free code. \n",
    "\n",
    "**Topics Covered:**\n",
    "- Nonlocal Variables\n",
    "- Global Variables\n",
    "- Local Variables\n",
    "- The `del` Command\n",
    "- Function Scope and Class Scope\n",
    "- Local vs Global Scope\n",
    "- Binding Occurrence\n"
   ]
  },
  {
   "cell_type": "markdown",
   "id": "1764ee56",
   "metadata": {},
   "source": [
    "## 5.1: Nonlocal Variables\n",
    "The `nonlocal` keyword allows you to modify variables in an enclosing (but non-global) scope inside nested functions."
   ]
  },
  {
   "cell_type": "code",
   "execution_count": null,
   "id": "cdf4217f",
   "metadata": {},
   "outputs": [],
   "source": [
    "\n",
    "def outer():\n",
    "    x = \"outer variable\"\n",
    "    def inner():\n",
    "        nonlocal x\n",
    "        x = \"modified by inner function\"\n",
    "    inner()\n",
    "    print(x)  # Output: \"modified by inner function\"\n",
    "\n",
    "outer()\n"
   ]
  },
  {
   "cell_type": "markdown",
   "id": "dfcbfa1a",
   "metadata": {},
   "source": [
    "## 5.2: Global Variables\n",
    "A variable declared outside functions is global. The `global` keyword allows modification inside functions."
   ]
  },
  {
   "cell_type": "code",
   "execution_count": null,
   "id": "d5cc331e",
   "metadata": {},
   "outputs": [],
   "source": [
    "\n",
    "x = 10  # Global variable\n",
    "\n",
    "def modify_global():\n",
    "    global x\n",
    "    x = 20\n",
    "\n",
    "modify_global()\n",
    "print(x)  # Output: 20\n"
   ]
  },
  {
   "cell_type": "markdown",
   "id": "d5478dee",
   "metadata": {},
   "source": [
    "## 5.3: Local Variables\n",
    "A variable declared inside a function is local to that function and cannot be accessed outside it."
   ]
  },
  {
   "cell_type": "code",
   "execution_count": null,
   "id": "fccedde1",
   "metadata": {},
   "outputs": [],
   "source": [
    "\n",
    "def example():\n",
    "    local_var = \"I am local\"\n",
    "    print(local_var)\n",
    "\n",
    "example()\n",
    "# print(local_var)  # Uncommenting this line will raise an error\n"
   ]
  },
  {
   "cell_type": "markdown",
   "id": "0ece50aa",
   "metadata": {},
   "source": [
    "## 5.4: The `del` Command\n",
    "The `del` statement removes a variable from memory."
   ]
  },
  {
   "cell_type": "code",
   "execution_count": null,
   "id": "60ec76ad",
   "metadata": {},
   "outputs": [],
   "source": [
    "\n",
    "x = 100\n",
    "print(x)  # Output: 100\n",
    "del x\n",
    "# print(x)  # Uncommenting this line will raise NameError\n"
   ]
  },
  {
   "cell_type": "markdown",
   "id": "6ea84502",
   "metadata": {},
   "source": [
    "## 5.5: Functions Skip Class Scope When Looking Up Names\n",
    "Functions defined inside classes do not see class-level variables unless accessed through `self`."
   ]
  },
  {
   "cell_type": "code",
   "execution_count": null,
   "id": "f0eda7f0",
   "metadata": {},
   "outputs": [],
   "source": [
    "\n",
    "class Example:\n",
    "    x = 5  # Class variable\n",
    "\n",
    "    def func(self):\n",
    "        # print(x)  # Uncommenting this will raise an error because 'x' is not in function scope\n",
    "        print(self.x)  # Correct way to access\n",
    "\n",
    "obj = Example()\n",
    "obj.func()  # Output: 5\n"
   ]
  },
  {
   "cell_type": "markdown",
   "id": "35b74445",
   "metadata": {},
   "source": [
    "## 5.6: Local vs Global Scope\n",
    "If a variable is not found in the local scope, Python searches in the global scope."
   ]
  },
  {
   "cell_type": "code",
   "execution_count": null,
   "id": "267ef98f",
   "metadata": {},
   "outputs": [],
   "source": [
    "\n",
    "x = \"global variable\"\n",
    "\n",
    "def example():\n",
    "    x = \"local variable\"\n",
    "    print(\"Inside function:\", x)\n",
    "\n",
    "example()\n",
    "print(\"Outside function:\", x)\n"
   ]
  },
  {
   "cell_type": "markdown",
   "id": "49c51682",
   "metadata": {},
   "source": [
    "## 5.7: Binding Occurrence\n",
    "Binding occurs when a variable is assigned a value, determining its scope."
   ]
  },
  {
   "cell_type": "code",
   "execution_count": null,
   "id": "6b139832",
   "metadata": {},
   "outputs": [],
   "source": [
    "\n",
    "def example():\n",
    "    a = 10  # Binding a local variable\n",
    "    print(a)\n",
    "\n",
    "example()\n",
    "\n",
    "global_var = 50  # Global binding\n",
    "print(global_var)\n"
   ]
  }
 ],
 "metadata": {},
 "nbformat": 4,
 "nbformat_minor": 5
}

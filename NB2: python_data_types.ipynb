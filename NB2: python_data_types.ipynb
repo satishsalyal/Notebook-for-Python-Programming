{
 "cells": [
  {
   "cell_type": "markdown",
   "id": "fe4afb60",
   "metadata": {},
   "source": [
    "# Python Data Types\n",
    "This notebook covers different **data types** in Python with detailed explanations and examples.\n",
    "\n",
    "**Topics Covered:**\n",
    "- Strings\n",
    "- Sets\n",
    "- Numbers\n",
    "- Lists\n",
    "- Dictionaries\n",
    "- Tuples\n"
   ]
  },
  {
   "cell_type": "markdown",
   "id": "54dae657",
   "metadata": {},
   "source": [
    "##  2.1: String Data Type\n",
    "Strings in Python are sequences of characters enclosed in quotes (`'` or `\"`)."
   ]
  },
  {
   "cell_type": "code",
   "execution_count": null,
   "id": "d5d67fca",
   "metadata": {},
   "outputs": [],
   "source": [
    "\n",
    "# String examples\n",
    "s1 = \"Hello, World!\"  # Double quotes\n",
    "s2 = 'Python Programming'  # Single quotes\n",
    "\n",
    "# String operations\n",
    "print(s1.upper())  # Convert to uppercase\n",
    "print(s2.lower())  # Convert to lowercase\n",
    "print(s1 + \" \" + s2)  # String concatenation\n",
    "print(s1[0:5])  # String slicing\n"
   ]
  },
  {
   "cell_type": "markdown",
   "id": "9c0e0b11",
   "metadata": {},
   "source": [
    "##  2.2: Set Data Types\n",
    "A **set** is an unordered collection of unique elements."
   ]
  },
  {
   "cell_type": "code",
   "execution_count": null,
   "id": "3182e8fe",
   "metadata": {},
   "outputs": [],
   "source": [
    "\n",
    "# Set example\n",
    "my_set = {1, 2, 3, 4, 4, 5}  # Duplicates are ignored\n",
    "\n",
    "# Adding and removing elements\n",
    "my_set.add(6)\n",
    "my_set.remove(3)\n",
    "\n",
    "print(my_set)  # Output: {1, 2, 4, 5, 6}\n",
    "print(2 in my_set)  # Membership test\n"
   ]
  },
  {
   "cell_type": "markdown",
   "id": "2d79c4cd",
   "metadata": {},
   "source": [
    "##  2.3: Numbers Data Type\n",
    "Python supports integers, floats, and complex numbers."
   ]
  },
  {
   "cell_type": "code",
   "execution_count": null,
   "id": "c4890da7",
   "metadata": {},
   "outputs": [],
   "source": [
    "\n",
    "# Number types\n",
    "a = 10       # Integer\n",
    "b = 3.14     # Float\n",
    "c = 2 + 3j   # Complex number\n",
    "\n",
    "# Operations\n",
    "print(a + b)  # Addition\n",
    "print(a * b)  # Multiplication\n",
    "print(c.real, c.imag)  # Real and imaginary parts of complex number\n"
   ]
  },
  {
   "cell_type": "markdown",
   "id": "228d1b2a",
   "metadata": {},
   "source": [
    "##  2.4: List Data Type\n",
    "A **list** is an ordered, mutable collection of elements."
   ]
  },
  {
   "cell_type": "code",
   "execution_count": null,
   "id": "8dc2e0ef",
   "metadata": {},
   "outputs": [],
   "source": [
    "\n",
    "# List example\n",
    "my_list = [10, 20, 30, 40]\n",
    "\n",
    "# List operations\n",
    "my_list.append(50)  # Add an element\n",
    "my_list.remove(20)  # Remove an element\n",
    "print(my_list[1])  # Access element by index\n",
    "\n",
    "print(my_list)  # Output: [10, 30, 40, 50]\n"
   ]
  },
  {
   "cell_type": "markdown",
   "id": "8fb32882",
   "metadata": {},
   "source": [
    "##  2.5: Dictionary Data Type\n",
    "A **dictionary** stores key-value pairs."
   ]
  },
  {
   "cell_type": "code",
   "execution_count": null,
   "id": "66313b79",
   "metadata": {},
   "outputs": [],
   "source": [
    "\n",
    "# Dictionary example\n",
    "student = {\"name\": \"Alice\", \"age\": 25, \"grade\": \"A\"}\n",
    "\n",
    "# Accessing values\n",
    "print(student[\"name\"])  # Output: Alice\n",
    "\n",
    "# Adding a new key-value pair\n",
    "student[\"city\"] = \"New York\"\n",
    "print(student)\n"
   ]
  },
  {
   "cell_type": "markdown",
   "id": "825999f1",
   "metadata": {},
   "source": [
    "## Section 2.6: Tuple Data Type\n",
    "A **tuple** is an immutable collection of ordered elements."
   ]
  },
  {
   "cell_type": "code",
   "execution_count": null,
   "id": "bc915f1f",
   "metadata": {},
   "outputs": [],
   "source": [
    "\n",
    "# Tuple example\n",
    "my_tuple = (100, 200, 300)\n",
    "\n",
    "# Accessing elements\n",
    "print(my_tuple[0])  # Output: 100\n",
    "\n",
    "# Tuples are immutable (cannot change values)\n",
    "# my_tuple[1] = 400  # This will raise an error\n"
   ]
  }
 ],
 "metadata": {},
 "nbformat": 4,
 "nbformat_minor": 5
}

{
 "cells": [
  {
   "cell_type": "markdown",
   "id": "7d933cfb",
   "metadata": {},
   "source": [
    "# Python Loops \n",
    "This notebook explores different types of loops in Python, with improved explanations and visualizations."
   ]
  },
  {
   "cell_type": "markdown",
   "id": "795f94c6",
   "metadata": {},
   "source": [
    "## 1. Introduction to Loops\n",
    "Loops are used to execute a block of code multiple times. Python provides two types of loops:\n",
    "- **for loop**: Iterates over a sequence.\n",
    "- **while loop**: Repeats as long as a condition is `True`."
   ]
  },
  {
   "cell_type": "markdown",
   "id": "d5a888c1",
   "metadata": {},
   "source": [
    "## 2. For Loops"
   ]
  },
  {
   "cell_type": "markdown",
   "metadata": {},
   "source": [
    "# Loops in Python\n",
    "\n",
    "Loops are used to execute a block of code multiple times. Python provides different types of loops: \n",
    "- `for` loop\n",
    "- `while` loop\n",
    "- Loop control statements (`break`, `continue`, `pass`)\n",
    "- Iteration techniques (looping through lists, dictionaries, unpacking, etc.)\n"
   ]
  },
  {
   "cell_type": "markdown",
   "metadata": {},
   "source": [
    "## 9.1: Break and Continue in Loops\n",
    "\n",
    "- **`break`**: Terminates the loop completely.\n",
    "- **`continue`**: Skips the current iteration and moves to the next one.\n"
   ]
  },
  {
   "cell_type": "code",
   "execution_count": null,
   "metadata": {},
   "outputs": [],
   "source": [
    "# Example: Using break in a loop\n",
    "for i in range(10):\n",
    "    if i == 5:\n",
    "        break  # Stops the loop when i is 5\n",
    "    print(i)"
   ]
  },
  {
   "cell_type": "code",
   "execution_count": null,
   "metadata": {},
   "outputs": [],
   "source": [
    "# Example: Using continue in a loop\n",
    "for i in range(10):\n",
    "    if i == 5:\n",
    "        continue  # Skips the iteration when i is 5\n",
    "    print(i)"
   ]
  },
  {
   "cell_type": "markdown",
   "metadata": {},
   "source": [
    "## 9.2: For Loops\n",
    "\n",
    "The `for` loop in Python is used for iterating over sequences such as lists, tuples, and strings."
   ]
  },
  {
   "cell_type": "code",
   "execution_count": null,
   "metadata": {},
   "outputs": [],
   "source": [
    "# Example: Iterating over a list\n",
    "fruits = ['apple', 'banana', 'cherry']\n",
    "for fruit in fruits:\n",
    "    print(fruit)"
   ]
  },
  {
   "cell_type": "markdown",
   "metadata": {},
   "source": [
    "## 9.3: Iterating Over Lists\n",
    "\n",
    "We can iterate over lists using the `for` loop."
   ]
  },
  {
   "cell_type": "code",
   "execution_count": null,
   "metadata": {},
   "outputs": [],
   "source": [
    "# Example: Iterating with index\n",
    "numbers = [10, 20, 30, 40]\n",
    "for index, num in enumerate(numbers):\n",
    "    print(f'Index {index}: Value {num}')"
   ]
  },
  {
   "cell_type": "markdown",
   "metadata": {},
   "source": [
    "## 9.4: Loops with an 'else' Clause\n",
    "\n",
    "Python allows loops to have an `else` block that executes only if the loop completes fully (i.e., not terminated by `break`)."
   ]
  },
  {
   "cell_type": "code",
   "execution_count": null,
   "metadata": {},
   "outputs": [],
   "source": [
    "# Example: Using else with loop\n",
    "for i in range(5):\n",
    "    print(i)\n",
    "else:\n",
    "    print('Loop completed successfully!')"
   ]
  },
  {
   "cell_type": "markdown",
   "metadata": {},
   "source": [
    "## 9.5: The Pass Statement\n",
    "\n",
    "The `pass` statement acts as a placeholder and does nothing."
   ]
  },
  {
   "cell_type": "code",
   "execution_count": null,
   "metadata": {},
   "outputs": [],
   "source": [
    "# Example: Using pass\n",
    "for i in range(5):\n",
    "    if i == 2:\n",
    "        pass  # Placeholder\n",
    "    print(i)"
   ]
  },
  {
   "cell_type": "markdown",
   "metadata": {},
   "source": [
    "## 9.6: Iterating Over Dictionaries\n",
    "\n",
    "We can iterate over keys, values, or both in a dictionary."
   ]
  },
  {
   "cell_type": "code",
   "execution_count": null,
   "metadata": {},
   "outputs": [],
   "source": [
    "# Example: Iterating over a dictionary\n",
    "person = {'name': 'Alice', 'age': 25, 'city': 'New York'}\n",
    "for key, value in person.items():\n",
    "    print(f'{key}: {value}')"
   ]
  },
  {
   "cell_type": "markdown",
   "metadata": {},
   "source": [
    "## 9.7: The 'Half Loop' (Do-While Emulation)\n",
    "\n",
    "Python does not have a `do-while` loop, but we can emulate it using a `while` loop."
   ]
  },
  {
   "cell_type": "code",
   "execution_count": null,
   "metadata": {},
   "outputs": [],
   "source": [
    "# Example: Emulating a do-while loop\n",
    "x = 0\n",
    "while True:\n",
    "    print(x)\n",
    "    x += 1\n",
    "    if x >= 5:\n",
    "        break"
   ]
  },
  {
   "cell_type": "markdown",
   "metadata": {},
   "source": [
    "## 9.10: While Loop\n",
    "\n",
    "The `while` loop runs as long as a condition is `True`."
   ]
  },
  {
   "cell_type": "code",
   "execution_count": null,
   "metadata": {},
   "outputs": [],
   "source": [
    "# Example: Using a while loop\n",
    "count = 0\n",
    "while count < 5:\n",
    "    print(count)\n",
    "    count += 1"
   ]
  }
 ],
 "metadata": {},
 "nbformat": 4,
 "nbformat_minor": 4
}

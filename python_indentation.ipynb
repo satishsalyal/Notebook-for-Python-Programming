{
 "cells": [
  {
   "cell_type": "markdown",
   "id": "9cb085b8",
   "metadata": {},
   "source": [
    "# Indentation in Python\n",
    "Indentation is a crucial part of Python syntax. Unlike other programming languages, Python uses indentation to define code blocks.\n",
    "\n",
    "**Topics Covered:**\n",
    "- Simple Indentation Example\n",
    "- How Indentation is Parsed\n",
    "- Indentation Errors\n"
   ]
  },
  {
   "cell_type": "markdown",
   "id": "639b92ca",
   "metadata": {},
   "source": [
    "## Section 3.1: Simple Example\n",
    "In Python, indentation is used to define blocks of code, such as loops, functions, and conditionals."
   ]
  },
  {
   "cell_type": "code",
   "execution_count": null,
   "id": "6f7c080c",
   "metadata": {},
   "outputs": [],
   "source": [
    "\n",
    "# Example of indentation in a loop\n",
    "for i in range(3):  # Loop starts\n",
    "    print(\"Iteration:\", i)  # Indented block\n",
    "\n",
    "# Example of indentation in a function\n",
    "def greet(name):\n",
    "    print(\"Hello, \" + name + \"!\")  # Indented block inside function\n",
    "\n",
    "greet(\"Alice\")\n"
   ]
  },
  {
   "cell_type": "markdown",
   "id": "0b53fb0b",
   "metadata": {},
   "source": [
    "## Section 3.2: How Indentation is Parsed\n",
    "Python enforces indentation as part of its syntax. Each block of code must be properly indented for the interpreter to parse it correctly."
   ]
  },
  {
   "cell_type": "code",
   "execution_count": null,
   "id": "a79d44a6",
   "metadata": {},
   "outputs": [],
   "source": [
    "\n",
    "# Correct indentation\n",
    "x = 10\n",
    "if x > 5:\n",
    "    print(\"x is greater than 5\")  # Indented block\n",
    "\n",
    "# The interpreter expects indentation for block statements\n"
   ]
  },
  {
   "cell_type": "markdown",
   "id": "d258ff4e",
   "metadata": {},
   "source": [
    "## Section 3.3: Indentation Errors\n",
    "If indentation is incorrect, Python raises an **IndentationError**."
   ]
  },
  {
   "cell_type": "code",
   "execution_count": null,
   "id": "a69c2f7e",
   "metadata": {},
   "outputs": [],
   "source": [
    "\n",
    "# Incorrect indentation (Uncomment to see the error)\n",
    "# def faulty_function():\n",
    "# print(\"This will cause an IndentationError\")  # No indentation\n",
    "\n",
    "# Another example\n",
    "# if True:\n",
    "# print(\"This will also cause an error\")  # No indentation\n"
   ]
  }
 ],
 "metadata": {},
 "nbformat": 4,
 "nbformat_minor": 5
}

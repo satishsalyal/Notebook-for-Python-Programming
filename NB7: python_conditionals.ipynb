{
 "cells": [
  {
   "cell_type": "markdown",
   "id": "ca831359",
   "metadata": {},
   "source": [
    "# Conditionals in Python\n",
    "Conditionals allow decision-making in Python programs. They help control the flow of execution based on conditions.\n",
    "\n",
    "**Topics Covered:**\n",
    "- Conditional Expression (Ternary Operator)\n",
    "- if, elif, and else\n",
    "- Truth Values\n",
    "- Boolean Logic Expressions\n",
    "- Using `cmp` for Comparisons\n",
    "- Else Statement\n",
    "- Checking if an Object is `None`\n",
    "- If Statement\n"
   ]
  },
  {
   "cell_type": "markdown",
   "id": "80012a5f",
   "metadata": {},
   "source": [
    "## 7.1: Conditional Expression (Ternary Operator)\n",
    "Python supports a shorthand `if-else` expression known as the ternary operator."
   ]
  },
  {
   "cell_type": "code",
   "execution_count": null,
   "id": "46f6c833",
   "metadata": {},
   "outputs": [],
   "source": [
    "\n",
    "x = 10\n",
    "result = \"Positive\" if x > 0 else \"Negative\"\n",
    "print(result)  # Output: Positive\n"
   ]
  },
  {
   "cell_type": "markdown",
   "id": "f6ce3f1a",
   "metadata": {},
   "source": [
    "## 7.2: if, elif, and else\n",
    "Python uses `if`, `elif`, and `else` for conditional execution."
   ]
  },
  {
   "cell_type": "code",
   "execution_count": null,
   "id": "c79b2825",
   "metadata": {},
   "outputs": [],
   "source": [
    "\n",
    "x = 10\n",
    "\n",
    "if x > 0:\n",
    "    print(\"Positive\")\n",
    "elif x == 0:\n",
    "    print(\"Zero\")\n",
    "else:\n",
    "    print(\"Negative\")\n"
   ]
  },
  {
   "cell_type": "markdown",
   "id": "03382a33",
   "metadata": {},
   "source": [
    "## 7.3: Truth Values\n",
    "Python considers certain values as `False`, including `None`, `0`, `False`, and empty collections."
   ]
  },
  {
   "cell_type": "code",
   "execution_count": null,
   "id": "f85a3a77",
   "metadata": {},
   "outputs": [],
   "source": [
    "\n",
    "values = [None, 0, \"\", [], {}, False]\n",
    "for v in values:\n",
    "    print(bool(v))  # All will print False\n"
   ]
  },
  {
   "cell_type": "markdown",
   "id": "f5fc998c",
   "metadata": {},
   "source": [
    "## 7.4: Boolean Logic Expressions\n",
    "Python supports logical operators: `and`, `or`, and `not`."
   ]
  },
  {
   "cell_type": "code",
   "execution_count": null,
   "id": "365d5d59",
   "metadata": {},
   "outputs": [],
   "source": [
    "\n",
    "a, b = True, False\n",
    "\n",
    "print(a and b)  # Output: False\n",
    "print(a or b)   # Output: True\n",
    "print(not a)    # Output: False\n"
   ]
  },
  {
   "cell_type": "markdown",
   "id": "a5bce700",
   "metadata": {},
   "source": [
    "## 7.5: Using the `cmp` Function for Comparisons\n",
    "The `cmp()` function (only available in Python 2) returns `-1`, `0`, or `1` based on comparison results. In Python 3, use `(a > b) - (a < b)`."
   ]
  },
  {
   "cell_type": "code",
   "execution_count": null,
   "id": "29baf698",
   "metadata": {},
   "outputs": [],
   "source": [
    "\n",
    "def cmp(a, b):\n",
    "    return (a > b) - (a < b)  # Equivalent to cmp() in Python 3\n",
    "\n",
    "print(cmp(5, 10))  # Output: -1\n",
    "print(cmp(10, 10)) # Output: 0\n",
    "print(cmp(15, 10)) # Output: 1\n"
   ]
  },
  {
   "cell_type": "markdown",
   "id": "0223e4d0",
   "metadata": {},
   "source": [
    "## 7.6: Else Statement\n",
    "The `else` block executes when the `if` condition is `False`."
   ]
  },
  {
   "cell_type": "code",
   "execution_count": null,
   "id": "75576a4c",
   "metadata": {},
   "outputs": [],
   "source": [
    "\n",
    "x = 0\n",
    "\n",
    "if x > 0:\n",
    "    print(\"Positive\")\n",
    "else:\n",
    "    print(\"Not Positive\")  # Output: Not Positive\n"
   ]
  },
  {
   "cell_type": "markdown",
   "id": "76dea920",
   "metadata": {},
   "source": [
    "## 7.7: Testing if an Object is `None`\n",
    "To check if a variable is `None`, use `is None`."
   ]
  },
  {
   "cell_type": "code",
   "execution_count": null,
   "id": "4b510bc7",
   "metadata": {},
   "outputs": [],
   "source": [
    "\n",
    "x = None\n",
    "\n",
    "if x is None:\n",
    "    print(\"x is None\")\n"
   ]
  },
  {
   "cell_type": "markdown",
   "id": "fec787fa",
   "metadata": {},
   "source": [
    "## 7.8: If Statement\n",
    "An `if` statement executes its block only if the condition evaluates to `True`."
   ]
  },
  {
   "cell_type": "code",
   "execution_count": null,
   "id": "82ac590a",
   "metadata": {},
   "outputs": [],
   "source": [
    "\n",
    "x = 10\n",
    "\n",
    "if x > 5:\n",
    "    print(\"x is greater than 5\")  # Output: x is greater than 5\n"
   ]
  }
 ],
 "metadata": {},
 "nbformat": 4,
 "nbformat_minor": 5
}

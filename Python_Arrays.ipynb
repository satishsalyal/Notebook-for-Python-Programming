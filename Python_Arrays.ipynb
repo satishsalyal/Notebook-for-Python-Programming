{
 "cells": [
  {
   "cell_type": "markdown",
   "id": "e1217e79",
   "metadata": {},
   "source": [
    "# Python Arrays\n",
    "---\n",
    "This notebook provides a comprehensive guide to working with arrays in Python."
   ]
  },
  {
   "cell_type": "markdown",
   "id": "1685858b",
   "metadata": {},
   "source": [
    "## Section 17.1: Access individual elements through indexes"
   ]
  },
  {
   "cell_type": "code",
   "execution_count": null,
   "id": "25b647fc",
   "metadata": {},
   "outputs": [],
   "source": [
    "\n",
    "An array in Python allows indexed access to its elements.\n",
    "\n",
    "```python\n",
    "import array\n",
    "\n",
    "# Creating an array\n",
    "arr = array.array('i', [10, 20, 30, 40])\n",
    "\n",
    "# Accessing elements using index\n",
    "print(arr[0])  # First element\n",
    "print(arr[2])  # Third element\n",
    "```"
   ]
  },
  {
   "cell_type": "markdown",
   "id": "767d8149",
   "metadata": {},
   "source": [
    "## Section 17.2: Basic Introduction to Arrays"
   ]
  },
  {
   "cell_type": "code",
   "execution_count": null,
   "id": "f06ea220",
   "metadata": {},
   "outputs": [],
   "source": [
    "\n",
    "Arrays store multiple values of the same data type in a single variable.\n",
    "\n",
    "```python\n",
    "import array\n",
    "\n",
    "# Creating an integer array\n",
    "arr = array.array('i', [1, 2, 3, 4, 5])\n",
    "print(arr)\n",
    "```"
   ]
  },
  {
   "cell_type": "markdown",
   "id": "7c4160c6",
   "metadata": {},
   "source": [
    "## Section 17.3: Append any value to the array using append() method"
   ]
  },
  {
   "cell_type": "code",
   "execution_count": null,
   "id": "62a8b401",
   "metadata": {},
   "outputs": [],
   "source": [
    "\n",
    "You can add a value at the end of an array using `append()`.\n",
    "\n",
    "```python\n",
    "arr.append(6)\n",
    "print(arr)  # Output: array('i', [1, 2, 3, 4, 5, 6])\n",
    "```"
   ]
  },
  {
   "cell_type": "markdown",
   "id": "98d7b79f",
   "metadata": {},
   "source": [
    "## Section 17.4: Insert value in an array using insert() method"
   ]
  },
  {
   "cell_type": "code",
   "execution_count": null,
   "id": "15ad8c79",
   "metadata": {},
   "outputs": [],
   "source": [
    "\n",
    "You can insert a value at a specific index using `insert()`.\n",
    "\n",
    "```python\n",
    "arr.insert(2, 10)  # Inserts 10 at index 2\n",
    "print(arr)  # Output: array('i', [1, 2, 10, 3, 4, 5, 6])\n",
    "```"
   ]
  },
  {
   "cell_type": "markdown",
   "id": "f1341aa9",
   "metadata": {},
   "source": [
    "## Section 17.5: Extend Python array using extend() method"
   ]
  },
  {
   "cell_type": "code",
   "execution_count": null,
   "id": "dc7530f9",
   "metadata": {},
   "outputs": [],
   "source": [
    "\n",
    "The `extend()` method allows adding multiple values.\n",
    "\n",
    "```python\n",
    "arr.extend([7, 8, 9])\n",
    "print(arr)  # Output: array('i', [1, 2, 10, 3, 4, 5, 6, 7, 8, 9])\n",
    "```"
   ]
  },
  {
   "cell_type": "markdown",
   "id": "df8e64d9",
   "metadata": {},
   "source": [
    "## Section 17.6: Add items from a list into an array using fromlist() method"
   ]
  },
  {
   "cell_type": "code",
   "execution_count": null,
   "id": "a895b0ae",
   "metadata": {},
   "outputs": [],
   "source": [
    "\n",
    "You can add elements from a list using `fromlist()`. \n",
    "\n",
    "```python\n",
    "list_vals = [11, 12, 13]\n",
    "arr.fromlist(list_vals)\n",
    "print(arr)\n",
    "```"
   ]
  },
  {
   "cell_type": "markdown",
   "id": "33e0a887",
   "metadata": {},
   "source": [
    "## Section 17.7: Remove any array element using remove() method"
   ]
  },
  {
   "cell_type": "code",
   "execution_count": null,
   "id": "e3425620",
   "metadata": {},
   "outputs": [],
   "source": [
    "\n",
    "Removes the first occurrence of a value.\n",
    "\n",
    "```python\n",
    "arr.remove(10)\n",
    "print(arr)\n",
    "```"
   ]
  },
  {
   "cell_type": "markdown",
   "id": "d99e3a91",
   "metadata": {},
   "source": [
    "## Section 17.8: Remove last array element using pop() method"
   ]
  },
  {
   "cell_type": "code",
   "execution_count": null,
   "id": "884dd116",
   "metadata": {},
   "outputs": [],
   "source": [
    "\n",
    "Removes the last element.\n",
    "\n",
    "```python\n",
    "arr.pop()\n",
    "print(arr)\n",
    "```"
   ]
  },
  {
   "cell_type": "markdown",
   "id": "a6aac1ad",
   "metadata": {},
   "source": [
    "## Section 17.9: Fetch any element through its index using index() method"
   ]
  },
  {
   "cell_type": "code",
   "execution_count": null,
   "id": "21364dfc",
   "metadata": {},
   "outputs": [],
   "source": [
    "\n",
    "Finds the index of a specific element.\n",
    "\n",
    "```python\n",
    "idx = arr.index(4)\n",
    "print(\"Index of 4:\", idx)\n",
    "```"
   ]
  },
  {
   "cell_type": "markdown",
   "id": "c8c6d91c",
   "metadata": {},
   "source": [
    "## Section 17.10: Reverse a Python array using reverse() method"
   ]
  },
  {
   "cell_type": "code",
   "execution_count": null,
   "id": "56c9c347",
   "metadata": {},
   "outputs": [],
   "source": [
    "\n",
    "Reverses the array.\n",
    "\n",
    "```python\n",
    "arr.reverse()\n",
    "print(arr)\n",
    "```"
   ]
  },
  {
   "cell_type": "markdown",
   "id": "99810a5b",
   "metadata": {},
   "source": [
    "## Section 17.11: Get array buffer information through buffer_info() method"
   ]
  },
  {
   "cell_type": "code",
   "execution_count": null,
   "id": "5ba72d4a",
   "metadata": {},
   "outputs": [],
   "source": [
    "\n",
    "Returns a tuple with memory address and element count.\n",
    "\n",
    "```python\n",
    "print(arr.buffer_info())\n",
    "```"
   ]
  },
  {
   "cell_type": "markdown",
   "id": "13cdd5e3",
   "metadata": {},
   "source": [
    "## Section 17.12: Check for number of occurrences of an element using count() method"
   ]
  },
  {
   "cell_type": "code",
   "execution_count": null,
   "id": "6a5dc0f0",
   "metadata": {},
   "outputs": [],
   "source": [
    "\n",
    "Counts occurrences of an element.\n",
    "\n",
    "```python\n",
    "print(arr.count(4))  # Number of times 4 appears in array\n",
    "```"
   ]
  },
  {
   "cell_type": "markdown",
   "id": "c8cf9907",
   "metadata": {},
   "source": [
    "## Section 17.13: Convert array to string using tostring() method"
   ]
  },
  {
   "cell_type": "code",
   "execution_count": null,
   "id": "5688f080",
   "metadata": {},
   "outputs": [],
   "source": [
    "\n",
    "Converts an array to a string (Python 2.x only).\n",
    "\n",
    "```python\n",
    "arr_str = arr.tobytes()\n",
    "print(arr_str)\n",
    "```"
   ]
  },
  {
   "cell_type": "markdown",
   "id": "4c67cb3c",
   "metadata": {},
   "source": [
    "## Section 17.14: Convert array to a Python list with same elements using tolist() method"
   ]
  },
  {
   "cell_type": "code",
   "execution_count": null,
   "id": "02ceab57",
   "metadata": {},
   "outputs": [],
   "source": [
    "\n",
    "Converts an array into a Python list.\n",
    "\n",
    "```python\n",
    "arr_list = arr.tolist()\n",
    "print(arr_list)\n",
    "```"
   ]
  }
 ],
 "metadata": {},
 "nbformat": 4,
 "nbformat_minor": 5
}
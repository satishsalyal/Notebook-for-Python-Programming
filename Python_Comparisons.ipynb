{
 "cells": [
  {
   "cell_type": "markdown",
   "id": "20277efe",
   "metadata": {},
   "source": [
    "# 📘 Python Comparisons: A Detailed Guide"
   ]
  },
  {
   "cell_type": "markdown",
   "id": "c94f7fae",
   "metadata": {},
   "source": [
    "\n",
    "## Introduction  \n",
    "In Python, **comparisons** are essential for decision-making and logical operations.  \n",
    "This chapter explores different types of comparisons, their syntax, and best practices.  \n",
    "\n",
    "## Topics Covered  \n",
    "🔹 **Chain Comparisons** (15.1)  \n",
    "🔹 **Comparison by `is` vs `==`** (15.2)  \n",
    "🔹 **Greater than or Less than** (15.3)  \n",
    "🔹 **Not Equal To** (15.4)  \n",
    "🔹 **Equal To** (15.5)  \n"
   ]
  },
  {
   "cell_type": "markdown",
   "id": "7edd0c62",
   "metadata": {},
   "source": [
    "\n",
    "## 🔹 15.1: Chain Comparisons  \n",
    "\n",
    "Python allows **chained comparisons**, making conditions more readable.  \n",
    "For example, instead of using multiple `and` conditions:  \n",
    "\n",
    "```python\n",
    "# Without chaining\n",
    "x = 5\n",
    "if x > 2 and x < 10:\n",
    "    print(\"x is between 2 and 10\")\n",
    "```\n",
    "\n",
    "We can write:  \n",
    "\n",
    "```python\n",
    "# Using chained comparisons\n",
    "x = 5\n",
    "if 2 < x < 10:\n",
    "    print(\"x is between 2 and 10\")\n",
    "```\n",
    "This works because Python internally **translates** `2 < x < 10` into `2 < x and x < 10`.  \n"
   ]
  },
  {
   "cell_type": "markdown",
   "id": "8aa9d1a8",
   "metadata": {},
   "source": [
    "\n",
    "## 🔹 15.2: Comparison by `is` vs `==`  \n",
    "\n",
    "Python provides two ways to compare values:  \n",
    "\n",
    "1️⃣ **`==` (Equality Operator)** → Checks if two values are **equal**  \n",
    "2️⃣ **`is` (Identity Operator)** → Checks if two objects **refer to the same memory location**  \n",
    "\n",
    "🔹 **Example:**  \n",
    "```python\n",
    "a = [1, 2, 3]\n",
    "b = [1, 2, 3]\n",
    "\n",
    "print(a == b)  # True → because values are the same\n",
    "print(a is b)  # False → because they are different objects\n",
    "\n",
    "c = a  # Assign same reference\n",
    "print(a is c)  # True → both refer to the same object\n",
    "```\n"
   ]
  },
  {
   "cell_type": "markdown",
   "id": "d62c813c",
   "metadata": {},
   "source": [
    "\n",
    "## 🔹 15.3: Greater than or Less than  \n",
    "\n",
    "Python provides the following **comparison operators**:  \n",
    "\n",
    "| Operator | Meaning |\n",
    "|----------|---------|\n",
    "| `>`  | Greater than |\n",
    "| `<`  | Less than |\n",
    "| `>=` | Greater than or equal to |\n",
    "| `<=` | Less than or equal to |\n",
    "\n",
    "🔹 **Example:**  \n",
    "```python\n",
    "x = 10\n",
    "y = 5\n",
    "\n",
    "print(x > y)  # True  (10 is greater than 5)\n",
    "print(x < y)  # False (10 is not less than 5)\n",
    "print(x >= 10)  # True  (10 is equal to 10)\n",
    "print(y <= 4)  # False (5 is not less than or equal to 4)\n",
    "```\n"
   ]
  },
  {
   "cell_type": "markdown",
   "id": "148722c8",
   "metadata": {},
   "source": [
    "\n",
    "## 🔹 15.4: Not Equal To  \n",
    "\n",
    "Python uses the `!=` operator to check if two values are **not equal**.  \n",
    "\n",
    "🔹 **Example:**  \n",
    "```python\n",
    "x = 10\n",
    "y = 5\n",
    "\n",
    "print(x != y)  # True → 10 is not equal to 5\n",
    "print(x != 10)  # False → 10 is equal to 10\n",
    "```\n"
   ]
  },
  {
   "cell_type": "markdown",
   "id": "f5400dd7",
   "metadata": {},
   "source": [
    "\n",
    "## 🔹 15.5: Equal To  \n",
    "\n",
    "Python uses the `==` operator to check if two values are **equal**.  \n",
    "\n",
    "🔹 **Example:**  \n",
    "```python\n",
    "a = \"Python\"\n",
    "b = \"Python\"\n",
    "c = \"Java\"\n",
    "\n",
    "print(a == b)  # True → Both are \"Python\"\n",
    "print(a == c)  # False → \"Python\" is not equal to \"Java\"\n",
    "```\n"
   ]
  },
  {
   "cell_type": "markdown",
   "id": "efba55f5",
   "metadata": {},
   "source": [
    "\n",
    "## 🏁 Conclusion  \n",
    "\n",
    "Python provides various comparison operators that help in decision-making and conditional logic.  \n",
    "By mastering these operators, you can write **efficient and readable** Python code.  \n",
    "\n",
    "✔ Use **chained comparisons** for concise conditions.  \n",
    "✔ Understand the difference between **`is` vs `==`**.  \n",
    "✔ Utilize **comparison operators** effectively in decision-making.  \n",
    "\n",
    "🔹 **Practice Exercise:** Try writing a Python program that takes two numbers as input and compares them using all the operators discussed in this chapter. 🚀  \n"
   ]
  }
 ],
 "metadata": {},
 "nbformat": 4,
 "nbformat_minor": 5
}
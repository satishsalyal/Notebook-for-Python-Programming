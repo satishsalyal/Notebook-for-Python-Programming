{
 "cells": [
  {
   "cell_type": "markdown",
   "id": "88552d68",
   "metadata": {},
   "source": [
    "# Comments and Documentation in Python\n",
    "Comments and documentation help make code more readable and maintainable. This notebook covers different ways to write comments and document code using docstrings.\n",
    "\n",
    "**Topics Covered:**\n",
    "- Single-line, Inline, and Multiline Comments\n",
    "- Accessing Docstrings Programmatically\n",
    "- Writing Documentation Using Docstrings\n"
   ]
  },
  {
   "cell_type": "markdown",
   "id": "bf0fe04e",
   "metadata": {},
   "source": [
    "##  4.1: Single-line, Inline, and Multiline Comments\n",
    "- **Single-line comments** start with `#`.\n",
    "- **Inline comments** appear at the end of a line of code.\n",
    "- **Multiline comments** use triple quotes (`'''` or `\"\"\"`) but are technically docstrings if used inside functions."
   ]
  },
  {
   "cell_type": "code",
   "execution_count": null,
   "id": "75d131b8",
   "metadata": {},
   "outputs": [],
   "source": [
    "\n",
    "# This is a single-line comment\n",
    "\n",
    "x = 10  # This is an inline comment\n",
    "\n",
    "\"\"\"\n",
    "This is a multi-line comment (or docstring if inside a function).\n",
    "It can be used to describe a block of code.\n",
    "\"\"\"\n",
    "print(x)\n"
   ]
  },
  {
   "cell_type": "markdown",
   "id": "fc2dca8c",
   "metadata": {},
   "source": [
    "##  4.2: Programmatically Accessing Docstrings\n",
    "Docstrings are special strings used to document a function, class, or module. They can be accessed using the `__doc__` attribute."
   ]
  },
  {
   "cell_type": "code",
   "execution_count": null,
   "id": "a11611d5",
   "metadata": {},
   "outputs": [],
   "source": [
    "\n",
    "def square(n):\n",
    "    \"\"\"Returns the square of a number.\"\"\"\n",
    "    return n * n\n",
    "\n",
    "# Accessing the docstring\n",
    "print(square.__doc__)\n"
   ]
  },
  {
   "cell_type": "markdown",
   "id": "6fc0baa8",
   "metadata": {},
   "source": [
    "##  4.3: Writing Documentation Using Docstrings\n",
    "A **docstring** is a string that appears at the beginning of a function, class, or module to describe its purpose.\n",
    "Example of a well-documented function:"
   ]
  },
  {
   "cell_type": "code",
   "execution_count": null,
   "id": "c3a2a724",
   "metadata": {},
   "outputs": [],
   "source": [
    "\n",
    "def greet(name):\n",
    "    \"\"\"\n",
    "    Greets the user with their name.\n",
    "\n",
    "    Parameters:\n",
    "    name (str): The name of the user.\n",
    "\n",
    "    Returns:\n",
    "    str: A greeting message.\n",
    "    \"\"\"\n",
    "    return f\"Hello, {name}!\"\n",
    "\n",
    "print(greet(\"Alice\"))\n",
    "print(greet.__doc__)  # Access the docstring\n"
   ]
  }
 ],
 "metadata": {},
 "nbformat": 4,
 "nbformat_minor": 5
}

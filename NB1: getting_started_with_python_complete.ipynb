{
 "cells": [
  {
   "cell_type": "markdown",
   "id": "2b04be7c",
   "metadata": {},
   "source": [
    "# Getting Started with Python Programming\n",
    "This notebook provides a **detailed introduction** to Python programming, covering fundamental concepts, syntax, data types, and modules. Each section includes **explanations and practical examples** to help you learn effectively.\n",
    "\n",
    "**Topics Covered:**\n",
    "- Installing and running Python\n",
    "- Variables, data types, and indentation\n",
    "- User input, modules, and package installation\n"
   ]
  },
  {
   "cell_type": "markdown",
   "id": "5907a189",
   "metadata": {},
   "source": [
    "##  1.1: Getting Started\n",
    "Python is a **high-level, interpreted programming language** known for its readability and simplicity. It is widely used in **web development, data science, artificial intelligence, and automation**.\n",
    "\n",
    "To check if Python is installed on your system, run:\n",
    "```sh\n",
    "python --version\n",
    "```\n",
    "or\n",
    "```sh\n",
    "python3 --version\n",
    "```"
   ]
  },
  {
   "cell_type": "markdown",
   "id": "fa98ed41",
   "metadata": {},
   "source": [
    "## 1.2: Creating Variables and Assigning Values\n",
    "Variables in Python **do not require explicit declaration**. They are created when a value is assigned."
   ]
  },
  {
   "cell_type": "code",
   "execution_count": null,
   "id": "171e2a90",
   "metadata": {},
   "outputs": [],
   "source": [
    "\n",
    "# Assigning values to variables\n",
    "x = 10        # Integer\n",
    "y = 20.5      # Float\n",
    "name = \"Alice\" # String\n",
    "is_active = True  # Boolean\n",
    "\n",
    "# Displaying variable types\n",
    "print(type(x), type(y), type(name), type(is_active))\n"
   ]
  },
  {
   "cell_type": "markdown",
   "id": "90cddd4b",
   "metadata": {},
   "source": [
    "##  1.3: Block Indentation\n",
    "Python uses **indentation** instead of curly braces `{}` to define code blocks."
   ]
  },
  {
   "cell_type": "code",
   "execution_count": null,
   "id": "5f0807c0",
   "metadata": {},
   "outputs": [],
   "source": [
    "\n",
    "x = 10\n",
    "\n",
    "if x > 5:  # Indentation starts a block\n",
    "    print(\"x is greater than 5\")\n",
    "    print(\"This line is inside the block\")\n",
    "\n",
    "print(\"This line is outside the block\")\n"
   ]
  },
  {
   "cell_type": "markdown",
   "id": "f5a61a0d",
   "metadata": {},
   "source": [
    "##  1.4: Datatypes\n",
    "Python supports multiple built-in data types including numbers, strings, lists, tuples, and dictionaries."
   ]
  },
  {
   "cell_type": "code",
   "execution_count": null,
   "id": "45f2604d",
   "metadata": {},
   "outputs": [],
   "source": [
    "\n",
    "# Example of different data types\n",
    "a = 10         # Integer\n",
    "b = 3.14       # Float\n",
    "c = \"Hello\"    # String\n",
    "d = True       # Boolean\n",
    "\n",
    "# Display data types\n",
    "print(type(a), type(b), type(c), type(d))\n"
   ]
  },
  {
   "cell_type": "markdown",
   "id": "a62a9461",
   "metadata": {},
   "source": [
    "##  1.5: Collection Types\n",
    "Python provides several built-in collection types: **Lists, Tuples, Dictionaries, and Sets**."
   ]
  },
  {
   "cell_type": "code",
   "execution_count": null,
   "id": "fad8c3d5",
   "metadata": {},
   "outputs": [],
   "source": [
    "\n",
    "# List (mutable)\n",
    "my_list = [1, 2, 3, 4]\n",
    "my_list.append(5)\n",
    "print(my_list)\n",
    "\n",
    "# Tuple (immutable)\n",
    "my_tuple = (10, 20, 30)\n",
    "print(my_tuple[1])\n",
    "\n",
    "# Dictionary (key-value pairs)\n",
    "my_dict = {\"name\": \"Alice\", \"age\": 25}\n",
    "print(my_dict[\"name\"])\n",
    "\n",
    "# Set (unique elements)\n",
    "my_set = {1, 2, 3}\n",
    "my_set.add(4)\n",
    "print(my_set)\n"
   ]
  },
  {
   "cell_type": "markdown",
   "id": "dcde496f",
   "metadata": {},
   "source": [
    "##  1.6: IDLE - Python GUI\n",
    "IDLE (Integrated Development and Learning Environment) is a GUI-based tool for writing and running Python code.\n",
    "To open IDLE, run `idle` in your terminal or search for 'IDLE' on your system."
   ]
  },
  {
   "cell_type": "markdown",
   "id": "d8a5eace",
   "metadata": {},
   "source": [
    "##  1.7: User Input\n",
    "Use the `input()` function to accept user input from the keyboard."
   ]
  },
  {
   "cell_type": "code",
   "execution_count": null,
   "id": "d5388c1e",
   "metadata": {},
   "outputs": [],
   "source": [
    "\n",
    "name = input(\"Enter your name: \")\n",
    "print(f\"Hello, {name}!\")\n"
   ]
  },
  {
   "cell_type": "markdown",
   "id": "9ba8f4b2",
   "metadata": {},
   "source": [
    "##  1.8: Built-in Modules and Functions\n",
    "Python has many built-in modules and functions that extend its capabilities."
   ]
  },
  {
   "cell_type": "code",
   "execution_count": null,
   "id": "1159e5a3",
   "metadata": {},
   "outputs": [],
   "source": [
    "\n",
    "import math\n",
    "\n",
    "print(math.sqrt(16))  # Square root\n",
    "print(math.factorial(5))  # Factorial\n"
   ]
  },
  {
   "cell_type": "markdown",
   "id": "e7ef3e3d",
   "metadata": {},
   "source": [
    "##  1.9: Creating a Module\n",
    "Python allows you to create reusable modules. Save a Python file (`mymodule.py`) with the following content:\n",
    "```python\n",
    "def greet(name):\n",
    "    return f'Hello, {name}!'\n",
    "```\n",
    "\n",
    "Then import it in another script:\n",
    "```python\n",
    "import mymodule\n",
    "print(mymodule.greet('Alice'))\n",
    "```"
   ]
  },
  {
   "cell_type": "markdown",
   "id": "39933465",
   "metadata": {},
   "source": [
    "## n 1.10: Installation of Python 2.7.x and 3.x\n",
    "Python 2 is deprecated. Install Python 3 from [python.org](https://www.python.org/downloads/)."
   ]
  },
  {
   "cell_type": "markdown",
   "id": "cef5e5cb",
   "metadata": {},
   "source": [
    "##  1.11: String Functions - str() and repr()\n",
    "The `str()` function returns a human-readable string, while `repr()` returns an unambiguous representation."
   ]
  },
  {
   "cell_type": "code",
   "execution_count": null,
   "id": "23e54a68",
   "metadata": {},
   "outputs": [],
   "source": [
    "\n",
    "x = 10\n",
    "print(str(x))  # Readable output\n",
    "print(repr(x))  # Unambiguous output\n"
   ]
  },
  {
   "cell_type": "markdown",
   "id": "ddd4a4c6",
   "metadata": {},
   "source": [
    "##  1.12: Installing External Modules Using Pip\n",
    "Use `pip` to install external packages.\n",
    "```\n",
    "pip install numpy\n",
    "```"
   ]
  }
 ],
 "metadata": {},
 "nbformat": 4,
 "nbformat_minor": 5
}
